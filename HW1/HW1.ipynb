{
 "cells": [
  {
   "cell_type": "code",
   "execution_count": 1,
   "metadata": {},
   "outputs": [],
   "source": [
    "import pandas as pd\n",
    "import panel as pn\n",
    "import plotly.express as px\n",
    "from plotly.graph_objects import Figure, Scatter, Bar\n",
    "import numpy as np"
   ]
  },
  {
   "cell_type": "code",
   "execution_count": 2,
   "metadata": {},
   "outputs": [
    {
     "data": {
      "text/html": [
       "<script type=\"esms-options\">{\"shimMode\": true}</script><style>*[data-root-id],\n",
       "*[data-root-id] > * {\n",
       "  box-sizing: border-box;\n",
       "  font-family: var(--jp-ui-font-family);\n",
       "  font-size: var(--jp-ui-font-size1);\n",
       "  color: var(--vscode-editor-foreground, var(--jp-ui-font-color1));\n",
       "}\n",
       "\n",
       "/* Override VSCode background color */\n",
       ".cell-output-ipywidget-background:has(\n",
       "    > .cell-output-ipywidget-background > .lm-Widget > *[data-root-id]\n",
       "  ),\n",
       ".cell-output-ipywidget-background:has(> .lm-Widget > *[data-root-id]) {\n",
       "  background-color: transparent !important;\n",
       "}\n",
       "</style>"
      ]
     },
     "metadata": {},
     "output_type": "display_data"
    },
    {
     "data": {
      "application/javascript": "(function(root) {\n  function now() {\n    return new Date();\n  }\n\n  const force = true;\n  const py_version = '3.6.2'.replace('rc', '-rc.').replace('.dev', '-dev.');\n  const reloading = false;\n  const Bokeh = root.Bokeh;\n\n  // Set a timeout for this load but only if we are not already initializing\n  if (typeof (root._bokeh_timeout) === \"undefined\" || (force || !root._bokeh_is_initializing)) {\n    root._bokeh_timeout = Date.now() + 5000;\n    root._bokeh_failed_load = false;\n  }\n\n  function run_callbacks() {\n    try {\n      root._bokeh_onload_callbacks.forEach(function(callback) {\n        if (callback != null)\n          callback();\n      });\n    } finally {\n      delete root._bokeh_onload_callbacks;\n    }\n    console.debug(\"Bokeh: all callbacks have finished\");\n  }\n\n  function load_libs(css_urls, js_urls, js_modules, js_exports, callback) {\n    if (css_urls == null) css_urls = [];\n    if (js_urls == null) js_urls = [];\n    if (js_modules == null) js_modules = [];\n    if (js_exports == null) js_exports = {};\n\n    root._bokeh_onload_callbacks.push(callback);\n\n    if (root._bokeh_is_loading > 0) {\n      // Don't load bokeh if it is still initializing\n      console.debug(\"Bokeh: BokehJS is being loaded, scheduling callback at\", now());\n      return null;\n    } else if (js_urls.length === 0 && js_modules.length === 0 && Object.keys(js_exports).length === 0) {\n      // There is nothing to load\n      run_callbacks();\n      return null;\n    }\n\n    function on_load() {\n      root._bokeh_is_loading--;\n      if (root._bokeh_is_loading === 0) {\n        console.debug(\"Bokeh: all BokehJS libraries/stylesheets loaded\");\n        run_callbacks()\n      }\n    }\n    window._bokeh_on_load = on_load\n\n    function on_error(e) {\n      const src_el = e.srcElement\n      console.error(\"failed to load \" + (src_el.href || src_el.src));\n    }\n\n    const skip = [];\n    if (window.requirejs) {\n      window.requirejs.config({'packages': {}, 'paths': {'plotly': 'https://cdn.plot.ly/plotly-2.31.1.min'}, 'shim': {}});\n      require([\"plotly\"], function(Plotly) {\n        window.Plotly = Plotly\n        on_load()\n      })\n      root._bokeh_is_loading = css_urls.length + 1;\n    } else {\n      root._bokeh_is_loading = css_urls.length + js_urls.length + js_modules.length + Object.keys(js_exports).length;\n    }\n\n    const existing_stylesheets = []\n    const links = document.getElementsByTagName('link')\n    for (let i = 0; i < links.length; i++) {\n      const link = links[i]\n      if (link.href != null) {\n        existing_stylesheets.push(link.href)\n      }\n    }\n    for (let i = 0; i < css_urls.length; i++) {\n      const url = css_urls[i];\n      const escaped = encodeURI(url)\n      if (existing_stylesheets.indexOf(escaped) !== -1) {\n        on_load()\n        continue;\n      }\n      const element = document.createElement(\"link\");\n      element.onload = on_load;\n      element.onerror = on_error;\n      element.rel = \"stylesheet\";\n      element.type = \"text/css\";\n      element.href = url;\n      console.debug(\"Bokeh: injecting link tag for BokehJS stylesheet: \", url);\n      document.body.appendChild(element);\n    }    if (((window.Plotly !== undefined) && (!(window.Plotly instanceof HTMLElement))) || window.requirejs) {\n      var urls = ['https://cdn.holoviz.org/panel/1.5.5/dist/bundled/plotlyplot/plotly-2.31.1.min.js'];\n      for (var i = 0; i < urls.length; i++) {\n        skip.push(encodeURI(urls[i]))\n      }\n    }    var existing_scripts = []\n    const scripts = document.getElementsByTagName('script')\n    for (let i = 0; i < scripts.length; i++) {\n      var script = scripts[i]\n      if (script.src != null) {\n        existing_scripts.push(script.src)\n      }\n    }\n    for (let i = 0; i < js_urls.length; i++) {\n      const url = js_urls[i];\n      const escaped = encodeURI(url)\n      if (skip.indexOf(escaped) !== -1 || existing_scripts.indexOf(escaped) !== -1) {\n        if (!window.requirejs) {\n          on_load();\n        }\n        continue;\n      }\n      const element = document.createElement('script');\n      element.onload = on_load;\n      element.onerror = on_error;\n      element.async = false;\n      element.src = url;\n      console.debug(\"Bokeh: injecting script tag for BokehJS library: \", url);\n      document.head.appendChild(element);\n    }\n    for (let i = 0; i < js_modules.length; i++) {\n      const url = js_modules[i];\n      const escaped = encodeURI(url)\n      if (skip.indexOf(escaped) !== -1 || existing_scripts.indexOf(escaped) !== -1) {\n        if (!window.requirejs) {\n          on_load();\n        }\n        continue;\n      }\n      var element = document.createElement('script');\n      element.onload = on_load;\n      element.onerror = on_error;\n      element.async = false;\n      element.src = url;\n      element.type = \"module\";\n      console.debug(\"Bokeh: injecting script tag for BokehJS library: \", url);\n      document.head.appendChild(element);\n    }\n    for (const name in js_exports) {\n      const url = js_exports[name];\n      const escaped = encodeURI(url)\n      if (skip.indexOf(escaped) >= 0 || root[name] != null) {\n        if (!window.requirejs) {\n          on_load();\n        }\n        continue;\n      }\n      var element = document.createElement('script');\n      element.onerror = on_error;\n      element.async = false;\n      element.type = \"module\";\n      console.debug(\"Bokeh: injecting script tag for BokehJS library: \", url);\n      element.textContent = `\n      import ${name} from \"${url}\"\n      window.${name} = ${name}\n      window._bokeh_on_load()\n      `\n      document.head.appendChild(element);\n    }\n    if (!js_urls.length && !js_modules.length) {\n      on_load()\n    }\n  };\n\n  function inject_raw_css(css) {\n    const element = document.createElement(\"style\");\n    element.appendChild(document.createTextNode(css));\n    document.body.appendChild(element);\n  }\n\n  const js_urls = [\"https://cdn.holoviz.org/panel/1.5.5/dist/bundled/reactiveesm/es-module-shims@^1.10.0/dist/es-module-shims.min.js\", \"https://cdn.holoviz.org/panel/1.5.5/dist/bundled/jquery/jquery.slim.min.js\", \"https://cdn.holoviz.org/panel/1.5.5/dist/bundled/plotlyplot/plotly-2.31.1.min.js\", \"https://cdn.bokeh.org/bokeh/release/bokeh-3.6.2.min.js\", \"https://cdn.bokeh.org/bokeh/release/bokeh-gl-3.6.2.min.js\", \"https://cdn.bokeh.org/bokeh/release/bokeh-widgets-3.6.2.min.js\", \"https://cdn.bokeh.org/bokeh/release/bokeh-tables-3.6.2.min.js\", \"https://cdn.holoviz.org/panel/1.5.5/dist/panel.min.js\"];\n  const js_modules = [];\n  const js_exports = {};\n  const css_urls = [\"https://cdn.holoviz.org/panel/1.5.5/dist/bundled/plotlyplot/mapbox-gl-js/v3.0.1/mapbox-gl.css?v=1.5.5\"];\n  const inline_js = [    function(Bokeh) {\n      Bokeh.set_log_level(\"info\");\n    },\nfunction(Bokeh) {} // ensure no trailing comma for IE\n  ];\n\n  function run_inline_js() {\n    if ((root.Bokeh !== undefined) || (force === true)) {\n      for (let i = 0; i < inline_js.length; i++) {\n        try {\n          inline_js[i].call(root, root.Bokeh);\n        } catch(e) {\n          if (!reloading) {\n            throw e;\n          }\n        }\n      }\n      // Cache old bokeh versions\n      if (Bokeh != undefined && !reloading) {\n        var NewBokeh = root.Bokeh;\n        if (Bokeh.versions === undefined) {\n          Bokeh.versions = new Map();\n        }\n        if (NewBokeh.version !== Bokeh.version) {\n          Bokeh.versions.set(NewBokeh.version, NewBokeh)\n        }\n        root.Bokeh = Bokeh;\n      }\n    } else if (Date.now() < root._bokeh_timeout) {\n      setTimeout(run_inline_js, 100);\n    } else if (!root._bokeh_failed_load) {\n      console.log(\"Bokeh: BokehJS failed to load within specified timeout.\");\n      root._bokeh_failed_load = true;\n    }\n    root._bokeh_is_initializing = false\n  }\n\n  function load_or_wait() {\n    // Implement a backoff loop that tries to ensure we do not load multiple\n    // versions of Bokeh and its dependencies at the same time.\n    // In recent versions we use the root._bokeh_is_initializing flag\n    // to determine whether there is an ongoing attempt to initialize\n    // bokeh, however for backward compatibility we also try to ensure\n    // that we do not start loading a newer (Panel>=1.0 and Bokeh>3) version\n    // before older versions are fully initialized.\n    if (root._bokeh_is_initializing && Date.now() > root._bokeh_timeout) {\n      // If the timeout and bokeh was not successfully loaded we reset\n      // everything and try loading again\n      root._bokeh_timeout = Date.now() + 5000;\n      root._bokeh_is_initializing = false;\n      root._bokeh_onload_callbacks = undefined;\n      root._bokeh_is_loading = 0\n      console.log(\"Bokeh: BokehJS was loaded multiple times but one version failed to initialize.\");\n      load_or_wait();\n    } else if (root._bokeh_is_initializing || (typeof root._bokeh_is_initializing === \"undefined\" && root._bokeh_onload_callbacks !== undefined)) {\n      setTimeout(load_or_wait, 100);\n    } else {\n      root._bokeh_is_initializing = true\n      root._bokeh_onload_callbacks = []\n      const bokeh_loaded = root.Bokeh != null && (root.Bokeh.version === py_version || (root.Bokeh.versions !== undefined && root.Bokeh.versions.has(py_version)));\n      if (!reloading && !bokeh_loaded) {\n        if (root.Bokeh) {\n          root.Bokeh = undefined;\n        }\n        console.debug(\"Bokeh: BokehJS not loaded, scheduling load and callback at\", now());\n      }\n      load_libs(css_urls, js_urls, js_modules, js_exports, function() {\n        console.debug(\"Bokeh: BokehJS plotting callback run at\", now());\n        run_inline_js();\n      });\n    }\n  }\n  // Give older versions of the autoload script a head-start to ensure\n  // they initialize before we start loading newer version.\n  setTimeout(load_or_wait, 100)\n}(window));",
      "application/vnd.holoviews_load.v0+json": ""
     },
     "metadata": {},
     "output_type": "display_data"
    },
    {
     "data": {
      "application/javascript": "\nif ((window.PyViz === undefined) || (window.PyViz instanceof HTMLElement)) {\n  window.PyViz = {comms: {}, comm_status:{}, kernels:{}, receivers: {}, plot_index: []}\n}\n\n\n    function JupyterCommManager() {\n    }\n\n    JupyterCommManager.prototype.register_target = function(plot_id, comm_id, msg_handler) {\n      if (window.comm_manager || ((window.Jupyter !== undefined) && (Jupyter.notebook.kernel != null))) {\n        var comm_manager = window.comm_manager || Jupyter.notebook.kernel.comm_manager;\n        comm_manager.register_target(comm_id, function(comm) {\n          comm.on_msg(msg_handler);\n        });\n      } else if ((plot_id in window.PyViz.kernels) && (window.PyViz.kernels[plot_id])) {\n        window.PyViz.kernels[plot_id].registerCommTarget(comm_id, function(comm) {\n          comm.onMsg = msg_handler;\n        });\n      } else if (typeof google != 'undefined' && google.colab.kernel != null) {\n        google.colab.kernel.comms.registerTarget(comm_id, (comm) => {\n          var messages = comm.messages[Symbol.asyncIterator]();\n          function processIteratorResult(result) {\n            var message = result.value;\n            console.log(message)\n            var content = {data: message.data, comm_id};\n            var buffers = []\n            for (var buffer of message.buffers || []) {\n              buffers.push(new DataView(buffer))\n            }\n            var metadata = message.metadata || {};\n            var msg = {content, buffers, metadata}\n            msg_handler(msg);\n            return messages.next().then(processIteratorResult);\n          }\n          return messages.next().then(processIteratorResult);\n        })\n      }\n    }\n\n    JupyterCommManager.prototype.get_client_comm = function(plot_id, comm_id, msg_handler) {\n      if (comm_id in window.PyViz.comms) {\n        return window.PyViz.comms[comm_id];\n      } else if (window.comm_manager || ((window.Jupyter !== undefined) && (Jupyter.notebook.kernel != null))) {\n        var comm_manager = window.comm_manager || Jupyter.notebook.kernel.comm_manager;\n        var comm = comm_manager.new_comm(comm_id, {}, {}, {}, comm_id);\n        if (msg_handler) {\n          comm.on_msg(msg_handler);\n        }\n      } else if ((plot_id in window.PyViz.kernels) && (window.PyViz.kernels[plot_id])) {\n        var comm = window.PyViz.kernels[plot_id].connectToComm(comm_id);\n        comm.open();\n        if (msg_handler) {\n          comm.onMsg = msg_handler;\n        }\n      } else if (typeof google != 'undefined' && google.colab.kernel != null) {\n        var comm_promise = google.colab.kernel.comms.open(comm_id)\n        comm_promise.then((comm) => {\n          window.PyViz.comms[comm_id] = comm;\n          if (msg_handler) {\n            var messages = comm.messages[Symbol.asyncIterator]();\n            function processIteratorResult(result) {\n              var message = result.value;\n              var content = {data: message.data};\n              var metadata = message.metadata || {comm_id};\n              var msg = {content, metadata}\n              msg_handler(msg);\n              return messages.next().then(processIteratorResult);\n            }\n            return messages.next().then(processIteratorResult);\n          }\n        }) \n        var sendClosure = (data, metadata, buffers, disposeOnDone) => {\n          return comm_promise.then((comm) => {\n            comm.send(data, metadata, buffers, disposeOnDone);\n          });\n        };\n        var comm = {\n          send: sendClosure\n        };\n      }\n      window.PyViz.comms[comm_id] = comm;\n      return comm;\n    }\n    window.PyViz.comm_manager = new JupyterCommManager();\n    \n\n\nvar JS_MIME_TYPE = 'application/javascript';\nvar HTML_MIME_TYPE = 'text/html';\nvar EXEC_MIME_TYPE = 'application/vnd.holoviews_exec.v0+json';\nvar CLASS_NAME = 'output';\n\n/**\n * Render data to the DOM node\n */\nfunction render(props, node) {\n  var div = document.createElement(\"div\");\n  var script = document.createElement(\"script\");\n  node.appendChild(div);\n  node.appendChild(script);\n}\n\n/**\n * Handle when a new output is added\n */\nfunction handle_add_output(event, handle) {\n  var output_area = handle.output_area;\n  var output = handle.output;\n  if ((output.data == undefined) || (!output.data.hasOwnProperty(EXEC_MIME_TYPE))) {\n    return\n  }\n  var id = output.metadata[EXEC_MIME_TYPE][\"id\"];\n  var toinsert = output_area.element.find(\".\" + CLASS_NAME.split(' ')[0]);\n  if (id !== undefined) {\n    var nchildren = toinsert.length;\n    var html_node = toinsert[nchildren-1].children[0];\n    html_node.innerHTML = output.data[HTML_MIME_TYPE];\n    var scripts = [];\n    var nodelist = html_node.querySelectorAll(\"script\");\n    for (var i in nodelist) {\n      if (nodelist.hasOwnProperty(i)) {\n        scripts.push(nodelist[i])\n      }\n    }\n\n    scripts.forEach( function (oldScript) {\n      var newScript = document.createElement(\"script\");\n      var attrs = [];\n      var nodemap = oldScript.attributes;\n      for (var j in nodemap) {\n        if (nodemap.hasOwnProperty(j)) {\n          attrs.push(nodemap[j])\n        }\n      }\n      attrs.forEach(function(attr) { newScript.setAttribute(attr.name, attr.value) });\n      newScript.appendChild(document.createTextNode(oldScript.innerHTML));\n      oldScript.parentNode.replaceChild(newScript, oldScript);\n    });\n    if (JS_MIME_TYPE in output.data) {\n      toinsert[nchildren-1].children[1].textContent = output.data[JS_MIME_TYPE];\n    }\n    output_area._hv_plot_id = id;\n    if ((window.Bokeh !== undefined) && (id in Bokeh.index)) {\n      window.PyViz.plot_index[id] = Bokeh.index[id];\n    } else {\n      window.PyViz.plot_index[id] = null;\n    }\n  } else if (output.metadata[EXEC_MIME_TYPE][\"server_id\"] !== undefined) {\n    var bk_div = document.createElement(\"div\");\n    bk_div.innerHTML = output.data[HTML_MIME_TYPE];\n    var script_attrs = bk_div.children[0].attributes;\n    for (var i = 0; i < script_attrs.length; i++) {\n      toinsert[toinsert.length - 1].childNodes[1].setAttribute(script_attrs[i].name, script_attrs[i].value);\n    }\n    // store reference to server id on output_area\n    output_area._bokeh_server_id = output.metadata[EXEC_MIME_TYPE][\"server_id\"];\n  }\n}\n\n/**\n * Handle when an output is cleared or removed\n */\nfunction handle_clear_output(event, handle) {\n  var id = handle.cell.output_area._hv_plot_id;\n  var server_id = handle.cell.output_area._bokeh_server_id;\n  if (((id === undefined) || !(id in PyViz.plot_index)) && (server_id !== undefined)) { return; }\n  var comm = window.PyViz.comm_manager.get_client_comm(\"hv-extension-comm\", \"hv-extension-comm\", function () {});\n  if (server_id !== null) {\n    comm.send({event_type: 'server_delete', 'id': server_id});\n    return;\n  } else if (comm !== null) {\n    comm.send({event_type: 'delete', 'id': id});\n  }\n  delete PyViz.plot_index[id];\n  if ((window.Bokeh !== undefined) & (id in window.Bokeh.index)) {\n    var doc = window.Bokeh.index[id].model.document\n    doc.clear();\n    const i = window.Bokeh.documents.indexOf(doc);\n    if (i > -1) {\n      window.Bokeh.documents.splice(i, 1);\n    }\n  }\n}\n\n/**\n * Handle kernel restart event\n */\nfunction handle_kernel_cleanup(event, handle) {\n  delete PyViz.comms[\"hv-extension-comm\"];\n  window.PyViz.plot_index = {}\n}\n\n/**\n * Handle update_display_data messages\n */\nfunction handle_update_output(event, handle) {\n  handle_clear_output(event, {cell: {output_area: handle.output_area}})\n  handle_add_output(event, handle)\n}\n\nfunction register_renderer(events, OutputArea) {\n  function append_mime(data, metadata, element) {\n    // create a DOM node to render to\n    var toinsert = this.create_output_subarea(\n    metadata,\n    CLASS_NAME,\n    EXEC_MIME_TYPE\n    );\n    this.keyboard_manager.register_events(toinsert);\n    // Render to node\n    var props = {data: data, metadata: metadata[EXEC_MIME_TYPE]};\n    render(props, toinsert[0]);\n    element.append(toinsert);\n    return toinsert\n  }\n\n  events.on('output_added.OutputArea', handle_add_output);\n  events.on('output_updated.OutputArea', handle_update_output);\n  events.on('clear_output.CodeCell', handle_clear_output);\n  events.on('delete.Cell', handle_clear_output);\n  events.on('kernel_ready.Kernel', handle_kernel_cleanup);\n\n  OutputArea.prototype.register_mime_type(EXEC_MIME_TYPE, append_mime, {\n    safe: true,\n    index: 0\n  });\n}\n\nif (window.Jupyter !== undefined) {\n  try {\n    var events = require('base/js/events');\n    var OutputArea = require('notebook/js/outputarea').OutputArea;\n    if (OutputArea.prototype.mime_types().indexOf(EXEC_MIME_TYPE) == -1) {\n      register_renderer(events, OutputArea);\n    }\n  } catch(err) {\n  }\n}\n",
      "application/vnd.holoviews_load.v0+json": ""
     },
     "metadata": {},
     "output_type": "display_data"
    },
    {
     "data": {
      "application/vnd.holoviews_exec.v0+json": "",
      "text/html": [
       "<div id='68c646de-3473-4c17-b0ee-49605aa73c1c'>\n",
       "  <div id=\"b0ce47b3-b5cf-41a6-9633-c5e5ddc593e5\" data-root-id=\"68c646de-3473-4c17-b0ee-49605aa73c1c\" style=\"display: contents;\"></div>\n",
       "</div>\n",
       "<script type=\"application/javascript\">(function(root) {\n",
       "  var docs_json = {\"e6d8a38c-b745-4c70-9dee-0147807ec6da\":{\"version\":\"3.6.2\",\"title\":\"Bokeh Application\",\"roots\":[{\"type\":\"object\",\"name\":\"panel.models.browser.BrowserInfo\",\"id\":\"68c646de-3473-4c17-b0ee-49605aa73c1c\"},{\"type\":\"object\",\"name\":\"panel.models.comm_manager.CommManager\",\"id\":\"5a69d9ec-8d74-4648-b620-c4135149fc4f\",\"attributes\":{\"plot_id\":\"68c646de-3473-4c17-b0ee-49605aa73c1c\",\"comm_id\":\"69e5aeb5aba84d219609f5fb90425db0\",\"client_comm_id\":\"d4110adc963d40ff9ff000e276ca09de\"}}],\"defs\":[{\"type\":\"model\",\"name\":\"ReactiveHTML1\"},{\"type\":\"model\",\"name\":\"FlexBox1\",\"properties\":[{\"name\":\"align_content\",\"kind\":\"Any\",\"default\":\"flex-start\"},{\"name\":\"align_items\",\"kind\":\"Any\",\"default\":\"flex-start\"},{\"name\":\"flex_direction\",\"kind\":\"Any\",\"default\":\"row\"},{\"name\":\"flex_wrap\",\"kind\":\"Any\",\"default\":\"wrap\"},{\"name\":\"gap\",\"kind\":\"Any\",\"default\":\"\"},{\"name\":\"justify_content\",\"kind\":\"Any\",\"default\":\"flex-start\"}]},{\"type\":\"model\",\"name\":\"FloatPanel1\",\"properties\":[{\"name\":\"config\",\"kind\":\"Any\",\"default\":{\"type\":\"map\"}},{\"name\":\"contained\",\"kind\":\"Any\",\"default\":true},{\"name\":\"position\",\"kind\":\"Any\",\"default\":\"right-top\"},{\"name\":\"offsetx\",\"kind\":\"Any\",\"default\":null},{\"name\":\"offsety\",\"kind\":\"Any\",\"default\":null},{\"name\":\"theme\",\"kind\":\"Any\",\"default\":\"primary\"},{\"name\":\"status\",\"kind\":\"Any\",\"default\":\"normalized\"}]},{\"type\":\"model\",\"name\":\"GridStack1\",\"properties\":[{\"name\":\"mode\",\"kind\":\"Any\",\"default\":\"warn\"},{\"name\":\"ncols\",\"kind\":\"Any\",\"default\":null},{\"name\":\"nrows\",\"kind\":\"Any\",\"default\":null},{\"name\":\"allow_resize\",\"kind\":\"Any\",\"default\":true},{\"name\":\"allow_drag\",\"kind\":\"Any\",\"default\":true},{\"name\":\"state\",\"kind\":\"Any\",\"default\":[]}]},{\"type\":\"model\",\"name\":\"drag1\",\"properties\":[{\"name\":\"slider_width\",\"kind\":\"Any\",\"default\":5},{\"name\":\"slider_color\",\"kind\":\"Any\",\"default\":\"black\"},{\"name\":\"value\",\"kind\":\"Any\",\"default\":50}]},{\"type\":\"model\",\"name\":\"click1\",\"properties\":[{\"name\":\"terminal_output\",\"kind\":\"Any\",\"default\":\"\"},{\"name\":\"debug_name\",\"kind\":\"Any\",\"default\":\"\"},{\"name\":\"clears\",\"kind\":\"Any\",\"default\":0}]},{\"type\":\"model\",\"name\":\"FastWrapper1\",\"properties\":[{\"name\":\"object\",\"kind\":\"Any\",\"default\":null},{\"name\":\"style\",\"kind\":\"Any\",\"default\":null}]},{\"type\":\"model\",\"name\":\"NotificationAreaBase1\",\"properties\":[{\"name\":\"js_events\",\"kind\":\"Any\",\"default\":{\"type\":\"map\"}},{\"name\":\"position\",\"kind\":\"Any\",\"default\":\"bottom-right\"},{\"name\":\"_clear\",\"kind\":\"Any\",\"default\":0}]},{\"type\":\"model\",\"name\":\"NotificationArea1\",\"properties\":[{\"name\":\"js_events\",\"kind\":\"Any\",\"default\":{\"type\":\"map\"}},{\"name\":\"notifications\",\"kind\":\"Any\",\"default\":[]},{\"name\":\"position\",\"kind\":\"Any\",\"default\":\"bottom-right\"},{\"name\":\"_clear\",\"kind\":\"Any\",\"default\":0},{\"name\":\"types\",\"kind\":\"Any\",\"default\":[{\"type\":\"map\",\"entries\":[[\"type\",\"warning\"],[\"background\",\"#ffc107\"],[\"icon\",{\"type\":\"map\",\"entries\":[[\"className\",\"fas fa-exclamation-triangle\"],[\"tagName\",\"i\"],[\"color\",\"white\"]]}]]},{\"type\":\"map\",\"entries\":[[\"type\",\"info\"],[\"background\",\"#007bff\"],[\"icon\",{\"type\":\"map\",\"entries\":[[\"className\",\"fas fa-info-circle\"],[\"tagName\",\"i\"],[\"color\",\"white\"]]}]]}]}]},{\"type\":\"model\",\"name\":\"Notification\",\"properties\":[{\"name\":\"background\",\"kind\":\"Any\",\"default\":null},{\"name\":\"duration\",\"kind\":\"Any\",\"default\":3000},{\"name\":\"icon\",\"kind\":\"Any\",\"default\":null},{\"name\":\"message\",\"kind\":\"Any\",\"default\":\"\"},{\"name\":\"notification_type\",\"kind\":\"Any\",\"default\":null},{\"name\":\"_rendered\",\"kind\":\"Any\",\"default\":false},{\"name\":\"_destroyed\",\"kind\":\"Any\",\"default\":false}]},{\"type\":\"model\",\"name\":\"TemplateActions1\",\"properties\":[{\"name\":\"open_modal\",\"kind\":\"Any\",\"default\":0},{\"name\":\"close_modal\",\"kind\":\"Any\",\"default\":0}]},{\"type\":\"model\",\"name\":\"BootstrapTemplateActions1\",\"properties\":[{\"name\":\"open_modal\",\"kind\":\"Any\",\"default\":0},{\"name\":\"close_modal\",\"kind\":\"Any\",\"default\":0}]},{\"type\":\"model\",\"name\":\"TemplateEditor1\",\"properties\":[{\"name\":\"layout\",\"kind\":\"Any\",\"default\":[]}]},{\"type\":\"model\",\"name\":\"MaterialTemplateActions1\",\"properties\":[{\"name\":\"open_modal\",\"kind\":\"Any\",\"default\":0},{\"name\":\"close_modal\",\"kind\":\"Any\",\"default\":0}]},{\"type\":\"model\",\"name\":\"ReactiveESM1\",\"properties\":[{\"name\":\"esm_constants\",\"kind\":\"Any\",\"default\":{\"type\":\"map\"}}]},{\"type\":\"model\",\"name\":\"JSComponent1\",\"properties\":[{\"name\":\"esm_constants\",\"kind\":\"Any\",\"default\":{\"type\":\"map\"}}]},{\"type\":\"model\",\"name\":\"ReactComponent1\",\"properties\":[{\"name\":\"esm_constants\",\"kind\":\"Any\",\"default\":{\"type\":\"map\"}}]},{\"type\":\"model\",\"name\":\"AnyWidgetComponent1\",\"properties\":[{\"name\":\"esm_constants\",\"kind\":\"Any\",\"default\":{\"type\":\"map\"}}]},{\"type\":\"model\",\"name\":\"request_value1\",\"properties\":[{\"name\":\"fill\",\"kind\":\"Any\",\"default\":\"none\"},{\"name\":\"_synced\",\"kind\":\"Any\",\"default\":null},{\"name\":\"_request_sync\",\"kind\":\"Any\",\"default\":0}]}]}};\n",
       "  var render_items = [{\"docid\":\"e6d8a38c-b745-4c70-9dee-0147807ec6da\",\"roots\":{\"68c646de-3473-4c17-b0ee-49605aa73c1c\":\"b0ce47b3-b5cf-41a6-9633-c5e5ddc593e5\"},\"root_ids\":[\"68c646de-3473-4c17-b0ee-49605aa73c1c\"]}];\n",
       "  var docs = Object.values(docs_json)\n",
       "  if (!docs) {\n",
       "    return\n",
       "  }\n",
       "  const py_version = docs[0].version.replace('rc', '-rc.').replace('.dev', '-dev.')\n",
       "  async function embed_document(root) {\n",
       "    var Bokeh = get_bokeh(root)\n",
       "    await Bokeh.embed.embed_items_notebook(docs_json, render_items);\n",
       "    for (const render_item of render_items) {\n",
       "      for (const root_id of render_item.root_ids) {\n",
       "\tconst id_el = document.getElementById(root_id)\n",
       "\tif (id_el.children.length && id_el.children[0].hasAttribute('data-root-id')) {\n",
       "\t  const root_el = id_el.children[0]\n",
       "\t  root_el.id = root_el.id + '-rendered'\n",
       "\t  for (const child of root_el.children) {\n",
       "            // Ensure JupyterLab does not capture keyboard shortcuts\n",
       "            // see: https://jupyterlab.readthedocs.io/en/4.1.x/extension/notebook.html#keyboard-interaction-model\n",
       "\t    child.setAttribute('data-lm-suppress-shortcuts', 'true')\n",
       "\t  }\n",
       "\t}\n",
       "      }\n",
       "    }\n",
       "  }\n",
       "  function get_bokeh(root) {\n",
       "    if (root.Bokeh === undefined) {\n",
       "      return null\n",
       "    } else if (root.Bokeh.version !== py_version) {\n",
       "      if (root.Bokeh.versions === undefined || !root.Bokeh.versions.has(py_version)) {\n",
       "\treturn null\n",
       "      }\n",
       "      return root.Bokeh.versions.get(py_version);\n",
       "    } else if (root.Bokeh.version === py_version) {\n",
       "      return root.Bokeh\n",
       "    }\n",
       "    return null\n",
       "  }\n",
       "  function is_loaded(root) {\n",
       "    var Bokeh = get_bokeh(root)\n",
       "    return (Bokeh != null && Bokeh.Panel !== undefined && ( root.Plotly !== undefined) && ( root.Plotly !== undefined))\n",
       "  }\n",
       "  if (is_loaded(root)) {\n",
       "    embed_document(root);\n",
       "  } else {\n",
       "    var attempts = 0;\n",
       "    var timer = setInterval(function(root) {\n",
       "      if (is_loaded(root)) {\n",
       "        clearInterval(timer);\n",
       "        embed_document(root);\n",
       "      } else if (document.readyState == \"complete\") {\n",
       "        attempts++;\n",
       "        if (attempts > 200) {\n",
       "          clearInterval(timer);\n",
       "\t  var Bokeh = get_bokeh(root)\n",
       "\t  if (Bokeh == null || Bokeh.Panel == null) {\n",
       "            console.warn(\"Panel: ERROR: Unable to run Panel code because Bokeh or Panel library is missing\");\n",
       "\t  } else {\n",
       "\t    console.warn(\"Panel: WARNING: Attempting to render but not all required libraries could be resolved.\")\n",
       "\t    embed_document(root)\n",
       "\t  }\n",
       "        }\n",
       "      }\n",
       "    }, 25, root)\n",
       "  }\n",
       "})(window);</script>"
      ]
     },
     "metadata": {
      "application/vnd.holoviews_exec.v0+json": {
       "id": "68c646de-3473-4c17-b0ee-49605aa73c1c"
      }
     },
     "output_type": "display_data"
    }
   ],
   "source": [
    "pn.extension(\"plotly\")"
   ]
  },
  {
   "cell_type": "code",
   "execution_count": 3,
   "metadata": {},
   "outputs": [
    {
     "data": {
      "text/html": [
       "<div>\n",
       "<style scoped>\n",
       "    .dataframe tbody tr th:only-of-type {\n",
       "        vertical-align: middle;\n",
       "    }\n",
       "\n",
       "    .dataframe tbody tr th {\n",
       "        vertical-align: top;\n",
       "    }\n",
       "\n",
       "    .dataframe thead th {\n",
       "        text-align: right;\n",
       "    }\n",
       "</style>\n",
       "<table border=\"1\" class=\"dataframe\">\n",
       "  <thead>\n",
       "    <tr style=\"text-align: right;\">\n",
       "      <th></th>\n",
       "      <th>Unnamed: 0</th>\n",
       "      <th>NCES.School.ID</th>\n",
       "      <th>State.School.ID</th>\n",
       "      <th>NCES.District.ID</th>\n",
       "      <th>State.District.ID</th>\n",
       "      <th>Low.Grade</th>\n",
       "      <th>High.Grade</th>\n",
       "      <th>School.Name</th>\n",
       "      <th>District</th>\n",
       "      <th>County</th>\n",
       "      <th>...</th>\n",
       "      <th>Phone</th>\n",
       "      <th>Locale.Code</th>\n",
       "      <th>LocaleType</th>\n",
       "      <th>LocaleSub</th>\n",
       "      <th>Charter</th>\n",
       "      <th>Title.I.School</th>\n",
       "      <th>Title.1.School.Wide</th>\n",
       "      <th>Student.Teacher.Ratio</th>\n",
       "      <th>Free.Lunch</th>\n",
       "      <th>Reduced.Lunch</th>\n",
       "    </tr>\n",
       "  </thead>\n",
       "  <tbody>\n",
       "    <tr>\n",
       "      <th>0</th>\n",
       "      <td>1</td>\n",
       "      <td>530486002475</td>\n",
       "      <td>WA-31025-1656</td>\n",
       "      <td>5304860</td>\n",
       "      <td>WA-31025</td>\n",
       "      <td>6</td>\n",
       "      <td>8</td>\n",
       "      <td>10th Street School</td>\n",
       "      <td>Marysville School District</td>\n",
       "      <td>Snohomish</td>\n",
       "      <td>...</td>\n",
       "      <td>(360)965-0400</td>\n",
       "      <td>22.0</td>\n",
       "      <td>Suburb</td>\n",
       "      <td>Suburb: Midsize</td>\n",
       "      <td>No</td>\n",
       "      <td>Yes</td>\n",
       "      <td>Yes</td>\n",
       "      <td>23.4</td>\n",
       "      <td>28.0</td>\n",
       "      <td>3.0</td>\n",
       "    </tr>\n",
       "    <tr>\n",
       "      <th>1</th>\n",
       "      <td>2</td>\n",
       "      <td>530270001270</td>\n",
       "      <td>WA-06114-1646</td>\n",
       "      <td>5302700</td>\n",
       "      <td>WA-06114</td>\n",
       "      <td>KG</td>\n",
       "      <td>12</td>\n",
       "      <td>49th Street Academy</td>\n",
       "      <td>Evergreen School District (Clark)</td>\n",
       "      <td>Clark</td>\n",
       "      <td>...</td>\n",
       "      <td>(360)604-6700</td>\n",
       "      <td>12.0</td>\n",
       "      <td>City</td>\n",
       "      <td>City: Midsize</td>\n",
       "      <td>No</td>\n",
       "      <td>No</td>\n",
       "      <td>NaN</td>\n",
       "      <td>8.4</td>\n",
       "      <td>53.0</td>\n",
       "      <td>9.0</td>\n",
       "    </tr>\n",
       "    <tr>\n",
       "      <th>2</th>\n",
       "      <td>3</td>\n",
       "      <td>530910002602</td>\n",
       "      <td>WA-34033-4500</td>\n",
       "      <td>5309100</td>\n",
       "      <td>WA-34033</td>\n",
       "      <td>9</td>\n",
       "      <td>12</td>\n",
       "      <td>A G West Black Hills High School</td>\n",
       "      <td>Tumwater School District</td>\n",
       "      <td>Thurston</td>\n",
       "      <td>...</td>\n",
       "      <td>(360)709-7800</td>\n",
       "      <td>13.0</td>\n",
       "      <td>City</td>\n",
       "      <td>City: Small</td>\n",
       "      <td>No</td>\n",
       "      <td>No</td>\n",
       "      <td>NaN</td>\n",
       "      <td>21.5</td>\n",
       "      <td>169.0</td>\n",
       "      <td>40.0</td>\n",
       "    </tr>\n",
       "    <tr>\n",
       "      <th>3</th>\n",
       "      <td>4</td>\n",
       "      <td>530003000001</td>\n",
       "      <td>WA-14005-2834</td>\n",
       "      <td>5300030</td>\n",
       "      <td>WA-14005</td>\n",
       "      <td>PK</td>\n",
       "      <td>6</td>\n",
       "      <td>A J West Elementary</td>\n",
       "      <td>Aberdeen School District</td>\n",
       "      <td>Grays Harbor</td>\n",
       "      <td>...</td>\n",
       "      <td>(360)538-2131</td>\n",
       "      <td>33.0</td>\n",
       "      <td>Town</td>\n",
       "      <td>Town: Remote</td>\n",
       "      <td>No</td>\n",
       "      <td>Yes</td>\n",
       "      <td>Yes</td>\n",
       "      <td>15.9</td>\n",
       "      <td>292.0</td>\n",
       "      <td>10.0</td>\n",
       "    </tr>\n",
       "    <tr>\n",
       "      <th>4</th>\n",
       "      <td>5</td>\n",
       "      <td>530825002361</td>\n",
       "      <td>WA-32081-1533</td>\n",
       "      <td>5308250</td>\n",
       "      <td>WA-32081</td>\n",
       "      <td>9</td>\n",
       "      <td>12</td>\n",
       "      <td>A-3 Multiagency Adolescent Prog</td>\n",
       "      <td>Spokane School District</td>\n",
       "      <td>Spokane</td>\n",
       "      <td>...</td>\n",
       "      <td>(509)354-6299</td>\n",
       "      <td>12.0</td>\n",
       "      <td>City</td>\n",
       "      <td>City: Midsize</td>\n",
       "      <td>No</td>\n",
       "      <td>No</td>\n",
       "      <td>NaN</td>\n",
       "      <td>6.5</td>\n",
       "      <td>12.0</td>\n",
       "      <td>4.0</td>\n",
       "    </tr>\n",
       "  </tbody>\n",
       "</table>\n",
       "<p>5 rows × 25 columns</p>\n",
       "</div>"
      ],
      "text/plain": [
       "   Unnamed: 0  NCES.School.ID State.School.ID  NCES.District.ID  \\\n",
       "0           1    530486002475   WA-31025-1656           5304860   \n",
       "1           2    530270001270   WA-06114-1646           5302700   \n",
       "2           3    530910002602   WA-34033-4500           5309100   \n",
       "3           4    530003000001   WA-14005-2834           5300030   \n",
       "4           5    530825002361   WA-32081-1533           5308250   \n",
       "\n",
       "  State.District.ID Low.Grade High.Grade                       School.Name  \\\n",
       "0          WA-31025         6          8                10th Street School   \n",
       "1          WA-06114        KG         12               49th Street Academy   \n",
       "2          WA-34033         9         12  A G West Black Hills High School   \n",
       "3          WA-14005        PK          6               A J West Elementary   \n",
       "4          WA-32081         9         12   A-3 Multiagency Adolescent Prog   \n",
       "\n",
       "                            District        County  ...          Phone  \\\n",
       "0         Marysville School District     Snohomish  ...  (360)965-0400   \n",
       "1  Evergreen School District (Clark)         Clark  ...  (360)604-6700   \n",
       "2           Tumwater School District      Thurston  ...  (360)709-7800   \n",
       "3           Aberdeen School District  Grays Harbor  ...  (360)538-2131   \n",
       "4            Spokane School District       Spokane  ...  (509)354-6299   \n",
       "\n",
       "  Locale.Code LocaleType        LocaleSub  Charter Title.I.School  \\\n",
       "0        22.0     Suburb  Suburb: Midsize       No            Yes   \n",
       "1        12.0       City    City: Midsize       No             No   \n",
       "2        13.0       City      City: Small       No             No   \n",
       "3        33.0       Town     Town: Remote       No            Yes   \n",
       "4        12.0       City    City: Midsize       No             No   \n",
       "\n",
       "   Title.1.School.Wide Student.Teacher.Ratio Free.Lunch Reduced.Lunch  \n",
       "0                  Yes                  23.4       28.0           3.0  \n",
       "1                  NaN                   8.4       53.0           9.0  \n",
       "2                  NaN                  21.5      169.0          40.0  \n",
       "3                  Yes                  15.9      292.0          10.0  \n",
       "4                  NaN                   6.5       12.0           4.0  \n",
       "\n",
       "[5 rows x 25 columns]"
      ]
     },
     "execution_count": 3,
     "metadata": {},
     "output_type": "execute_result"
    }
   ],
   "source": [
    "df = pd.read_csv('./data/eduwa.csv')\n",
    "df.head()"
   ]
  },
  {
   "cell_type": "code",
   "execution_count": 4,
   "metadata": {},
   "outputs": [
    {
     "data": {
      "text/html": [
       "<div>\n",
       "<style scoped>\n",
       "    .dataframe tbody tr th:only-of-type {\n",
       "        vertical-align: middle;\n",
       "    }\n",
       "\n",
       "    .dataframe tbody tr th {\n",
       "        vertical-align: top;\n",
       "    }\n",
       "\n",
       "    .dataframe thead th {\n",
       "        text-align: right;\n",
       "    }\n",
       "</style>\n",
       "<table border=\"1\" class=\"dataframe\">\n",
       "  <thead>\n",
       "    <tr style=\"text-align: right;\">\n",
       "      <th></th>\n",
       "      <th>County</th>\n",
       "      <th>Reduced.Lunch</th>\n",
       "      <th>Cumulative</th>\n",
       "    </tr>\n",
       "  </thead>\n",
       "  <tbody>\n",
       "    <tr>\n",
       "      <th>0</th>\n",
       "      <td>King</td>\n",
       "      <td>16048.0</td>\n",
       "      <td>20.842912</td>\n",
       "    </tr>\n",
       "    <tr>\n",
       "      <th>1</th>\n",
       "      <td>Pierce</td>\n",
       "      <td>11210.0</td>\n",
       "      <td>35.402299</td>\n",
       "    </tr>\n",
       "    <tr>\n",
       "      <th>2</th>\n",
       "      <td>Snohomish</td>\n",
       "      <td>8087.0</td>\n",
       "      <td>45.905578</td>\n",
       "    </tr>\n",
       "    <tr>\n",
       "      <th>3</th>\n",
       "      <td>Clark</td>\n",
       "      <td>6388.0</td>\n",
       "      <td>54.202221</td>\n",
       "    </tr>\n",
       "    <tr>\n",
       "      <th>4</th>\n",
       "      <td>Spokane</td>\n",
       "      <td>5889.0</td>\n",
       "      <td>61.850770</td>\n",
       "    </tr>\n",
       "    <tr>\n",
       "      <th>5</th>\n",
       "      <td>Thurston</td>\n",
       "      <td>3162.0</td>\n",
       "      <td>65.957530</td>\n",
       "    </tr>\n",
       "    <tr>\n",
       "      <th>6</th>\n",
       "      <td>Kitsap</td>\n",
       "      <td>2998.0</td>\n",
       "      <td>69.851289</td>\n",
       "    </tr>\n",
       "    <tr>\n",
       "      <th>7</th>\n",
       "      <td>Benton</td>\n",
       "      <td>2412.0</td>\n",
       "      <td>72.983960</td>\n",
       "    </tr>\n",
       "    <tr>\n",
       "      <th>8</th>\n",
       "      <td>Whatcom</td>\n",
       "      <td>2003.0</td>\n",
       "      <td>75.585428</td>\n",
       "    </tr>\n",
       "    <tr>\n",
       "      <th>9</th>\n",
       "      <td>Yakima</td>\n",
       "      <td>1613.0</td>\n",
       "      <td>77.680369</td>\n",
       "    </tr>\n",
       "    <tr>\n",
       "      <th>10</th>\n",
       "      <td>Franklin</td>\n",
       "      <td>1592.0</td>\n",
       "      <td>79.748036</td>\n",
       "    </tr>\n",
       "    <tr>\n",
       "      <th>11</th>\n",
       "      <td>Grant</td>\n",
       "      <td>1551.0</td>\n",
       "      <td>81.762452</td>\n",
       "    </tr>\n",
       "    <tr>\n",
       "      <th>12</th>\n",
       "      <td>Skagit</td>\n",
       "      <td>1518.0</td>\n",
       "      <td>83.734009</td>\n",
       "    </tr>\n",
       "    <tr>\n",
       "      <th>13</th>\n",
       "      <td>Cowlitz</td>\n",
       "      <td>1201.0</td>\n",
       "      <td>85.293850</td>\n",
       "    </tr>\n",
       "    <tr>\n",
       "      <th>14</th>\n",
       "      <td>Clallam</td>\n",
       "      <td>1096.0</td>\n",
       "      <td>86.717319</td>\n",
       "    </tr>\n",
       "    <tr>\n",
       "      <th>15</th>\n",
       "      <td>Chelan</td>\n",
       "      <td>1046.0</td>\n",
       "      <td>88.075849</td>\n",
       "    </tr>\n",
       "    <tr>\n",
       "      <th>16</th>\n",
       "      <td>Island</td>\n",
       "      <td>952.0</td>\n",
       "      <td>89.312293</td>\n",
       "    </tr>\n",
       "    <tr>\n",
       "      <th>17</th>\n",
       "      <td>Okanogan</td>\n",
       "      <td>934.0</td>\n",
       "      <td>90.525359</td>\n",
       "    </tr>\n",
       "    <tr>\n",
       "      <th>18</th>\n",
       "      <td>Walla Walla</td>\n",
       "      <td>840.0</td>\n",
       "      <td>91.616339</td>\n",
       "    </tr>\n",
       "    <tr>\n",
       "      <th>19</th>\n",
       "      <td>Lewis</td>\n",
       "      <td>705.0</td>\n",
       "      <td>92.531983</td>\n",
       "    </tr>\n",
       "    <tr>\n",
       "      <th>20</th>\n",
       "      <td>Stevens</td>\n",
       "      <td>658.0</td>\n",
       "      <td>93.386584</td>\n",
       "    </tr>\n",
       "    <tr>\n",
       "      <th>21</th>\n",
       "      <td>Mason</td>\n",
       "      <td>642.0</td>\n",
       "      <td>94.220404</td>\n",
       "    </tr>\n",
       "    <tr>\n",
       "      <th>22</th>\n",
       "      <td>Adams</td>\n",
       "      <td>634.0</td>\n",
       "      <td>95.043834</td>\n",
       "    </tr>\n",
       "    <tr>\n",
       "      <th>23</th>\n",
       "      <td>Douglas</td>\n",
       "      <td>599.0</td>\n",
       "      <td>95.821807</td>\n",
       "    </tr>\n",
       "    <tr>\n",
       "      <th>24</th>\n",
       "      <td>Grays Harbor</td>\n",
       "      <td>510.0</td>\n",
       "      <td>96.484187</td>\n",
       "    </tr>\n",
       "    <tr>\n",
       "      <th>25</th>\n",
       "      <td>Whitman</td>\n",
       "      <td>382.0</td>\n",
       "      <td>96.980323</td>\n",
       "    </tr>\n",
       "    <tr>\n",
       "      <th>26</th>\n",
       "      <td>Kittitas</td>\n",
       "      <td>372.0</td>\n",
       "      <td>97.463472</td>\n",
       "    </tr>\n",
       "    <tr>\n",
       "      <th>27</th>\n",
       "      <td>Asotin</td>\n",
       "      <td>329.0</td>\n",
       "      <td>97.890772</td>\n",
       "    </tr>\n",
       "    <tr>\n",
       "      <th>28</th>\n",
       "      <td>Klickitat</td>\n",
       "      <td>264.0</td>\n",
       "      <td>98.233652</td>\n",
       "    </tr>\n",
       "    <tr>\n",
       "      <th>29</th>\n",
       "      <td>Jefferson</td>\n",
       "      <td>263.0</td>\n",
       "      <td>98.575232</td>\n",
       "    </tr>\n",
       "    <tr>\n",
       "      <th>30</th>\n",
       "      <td>Pacific</td>\n",
       "      <td>232.0</td>\n",
       "      <td>98.876550</td>\n",
       "    </tr>\n",
       "    <tr>\n",
       "      <th>31</th>\n",
       "      <td>Lincoln</td>\n",
       "      <td>205.0</td>\n",
       "      <td>99.142801</td>\n",
       "    </tr>\n",
       "    <tr>\n",
       "      <th>32</th>\n",
       "      <td>San Juan</td>\n",
       "      <td>193.0</td>\n",
       "      <td>99.393467</td>\n",
       "    </tr>\n",
       "    <tr>\n",
       "      <th>33</th>\n",
       "      <td>Ferry</td>\n",
       "      <td>120.0</td>\n",
       "      <td>99.549321</td>\n",
       "    </tr>\n",
       "    <tr>\n",
       "      <th>34</th>\n",
       "      <td>Pend Oreille</td>\n",
       "      <td>117.0</td>\n",
       "      <td>99.701279</td>\n",
       "    </tr>\n",
       "    <tr>\n",
       "      <th>35</th>\n",
       "      <td>Skamania</td>\n",
       "      <td>111.0</td>\n",
       "      <td>99.845445</td>\n",
       "    </tr>\n",
       "    <tr>\n",
       "      <th>36</th>\n",
       "      <td>Columbia</td>\n",
       "      <td>53.0</td>\n",
       "      <td>99.914280</td>\n",
       "    </tr>\n",
       "    <tr>\n",
       "      <th>37</th>\n",
       "      <td>Garfield</td>\n",
       "      <td>42.0</td>\n",
       "      <td>99.968829</td>\n",
       "    </tr>\n",
       "    <tr>\n",
       "      <th>38</th>\n",
       "      <td>Wahkiakum</td>\n",
       "      <td>24.0</td>\n",
       "      <td>100.000000</td>\n",
       "    </tr>\n",
       "  </tbody>\n",
       "</table>\n",
       "</div>"
      ],
      "text/plain": [
       "          County  Reduced.Lunch  Cumulative\n",
       "0           King        16048.0   20.842912\n",
       "1         Pierce        11210.0   35.402299\n",
       "2      Snohomish         8087.0   45.905578\n",
       "3          Clark         6388.0   54.202221\n",
       "4        Spokane         5889.0   61.850770\n",
       "5       Thurston         3162.0   65.957530\n",
       "6         Kitsap         2998.0   69.851289\n",
       "7         Benton         2412.0   72.983960\n",
       "8        Whatcom         2003.0   75.585428\n",
       "9         Yakima         1613.0   77.680369\n",
       "10      Franklin         1592.0   79.748036\n",
       "11         Grant         1551.0   81.762452\n",
       "12        Skagit         1518.0   83.734009\n",
       "13       Cowlitz         1201.0   85.293850\n",
       "14       Clallam         1096.0   86.717319\n",
       "15        Chelan         1046.0   88.075849\n",
       "16        Island          952.0   89.312293\n",
       "17      Okanogan          934.0   90.525359\n",
       "18   Walla Walla          840.0   91.616339\n",
       "19         Lewis          705.0   92.531983\n",
       "20       Stevens          658.0   93.386584\n",
       "21         Mason          642.0   94.220404\n",
       "22         Adams          634.0   95.043834\n",
       "23       Douglas          599.0   95.821807\n",
       "24  Grays Harbor          510.0   96.484187\n",
       "25       Whitman          382.0   96.980323\n",
       "26      Kittitas          372.0   97.463472\n",
       "27        Asotin          329.0   97.890772\n",
       "28     Klickitat          264.0   98.233652\n",
       "29     Jefferson          263.0   98.575232\n",
       "30       Pacific          232.0   98.876550\n",
       "31       Lincoln          205.0   99.142801\n",
       "32      San Juan          193.0   99.393467\n",
       "33         Ferry          120.0   99.549321\n",
       "34  Pend Oreille          117.0   99.701279\n",
       "35      Skamania          111.0   99.845445\n",
       "36      Columbia           53.0   99.914280\n",
       "37      Garfield           42.0   99.968829\n",
       "38     Wahkiakum           24.0  100.000000"
      ]
     },
     "execution_count": 4,
     "metadata": {},
     "output_type": "execute_result"
    }
   ],
   "source": [
    "newdf = df[[\"County\",\"Reduced.Lunch\"]]\n",
    "reducedLunchCounty = newdf.groupby(['County']).sum().sort_values(by=\"Reduced.Lunch\",ascending=False).reset_index()\n",
    "reducedLunchCounty['Cumulative'] = 100 * (reducedLunchCounty[\"Reduced.Lunch\"].cumsum()/reducedLunchCounty[\"Reduced.Lunch\"].sum())\n",
    "reducedLunchCounty"
   ]
  },
  {
   "cell_type": "code",
   "execution_count": 38,
   "metadata": {},
   "outputs": [
    {
     "data": {
      "application/vnd.plotly.v1+json": {
       "config": {
        "plotlyServerURL": "https://plot.ly"
       },
       "data": [
        {
         "marker": {
          "color": [
           "rgb(71, 71, 135)",
           "rgb(71, 71, 135)",
           "rgb(71, 71, 135)",
           "rgb(71, 71, 135)",
           "rgb(71, 71, 135)",
           "rgb(112, 111, 211)",
           "rgb(112, 111, 211)",
           "rgb(112, 111, 211)",
           "rgb(112, 111, 211)",
           "rgb(112, 111, 211)",
           "rgb(112, 111, 211)",
           "rgb(112, 111, 211)",
           "rgb(112, 111, 211)",
           "rgb(112, 111, 211)",
           "rgb(112, 111, 211)",
           "rgb(112, 111, 211)",
           "rgb(112, 111, 211)",
           "rgb(112, 111, 211)",
           "rgb(112, 111, 211)",
           "rgb(112, 111, 211)",
           "rgb(112, 111, 211)",
           "rgb(112, 111, 211)",
           "rgb(112, 111, 211)",
           "rgb(112, 111, 211)",
           "rgb(112, 111, 211)",
           "rgb(112, 111, 211)",
           "rgb(112, 111, 211)",
           "rgb(112, 111, 211)",
           "rgb(112, 111, 211)",
           "rgb(112, 111, 211)",
           "rgb(112, 111, 211)",
           "rgb(112, 111, 211)",
           "rgb(112, 111, 211)",
           "rgb(112, 111, 211)",
           "rgb(112, 111, 211)",
           "rgb(112, 111, 211)",
           "rgb(112, 111, 211)",
           "rgb(112, 111, 211)",
           "rgb(112, 111, 211)"
          ]
         },
         "name": "Count",
         "type": "bar",
         "x": [
          "King",
          "Pierce",
          "Snohomish",
          "Clark",
          "Spokane",
          "Thurston",
          "Kitsap",
          "Benton",
          "Whatcom",
          "Yakima",
          "Franklin",
          "Grant",
          "Skagit",
          "Cowlitz",
          "Clallam",
          "Chelan",
          "Island",
          "Okanogan",
          "Walla Walla",
          "Lewis",
          "Stevens",
          "Mason",
          "Adams",
          "Douglas",
          "Grays Harbor",
          "Whitman",
          "Kittitas",
          "Asotin",
          "Klickitat",
          "Jefferson",
          "Pacific",
          "Lincoln",
          "San Juan",
          "Ferry",
          "Pend Oreille",
          "Skamania",
          "Columbia",
          "Garfield",
          "Wahkiakum"
         ],
         "y": [
          16048,
          11210,
          8087,
          6388,
          5889,
          3162,
          2998,
          2412,
          2003,
          1613,
          1592,
          1551,
          1518,
          1201,
          1096,
          1046,
          952,
          934,
          840,
          705,
          658,
          642,
          634,
          599,
          510,
          382,
          372,
          329,
          264,
          263,
          232,
          205,
          193,
          120,
          117,
          111,
          53,
          42,
          24
         ]
        },
        {
         "line": {
          "color": "rgb(192, 57, 43)",
          "width": 3
         },
         "mode": "lines+markers",
         "name": "Percentage",
         "type": "scatter",
         "x": [
          "King",
          "Pierce",
          "Snohomish",
          "Clark",
          "Spokane",
          "Thurston",
          "Kitsap",
          "Benton",
          "Whatcom",
          "Yakima",
          "Franklin",
          "Grant",
          "Skagit",
          "Cowlitz",
          "Clallam",
          "Chelan",
          "Island",
          "Okanogan",
          "Walla Walla",
          "Lewis",
          "Stevens",
          "Mason",
          "Adams",
          "Douglas",
          "Grays Harbor",
          "Whitman",
          "Kittitas",
          "Asotin",
          "Klickitat",
          "Jefferson",
          "Pacific",
          "Lincoln",
          "San Juan",
          "Ferry",
          "Pend Oreille",
          "Skamania",
          "Columbia",
          "Garfield",
          "Wahkiakum"
         ],
         "y": [
          20.842911877394634,
          35.40229885057472,
          45.90557828430418,
          54.202220923436585,
          61.85076953048899,
          65.95752970972141,
          69.85128904474317,
          72.98395999740242,
          75.58542762517047,
          77.68036885512046,
          79.7480355867264,
          81.7624521072797,
          83.73400870186376,
          85.29385025001623,
          86.71731930644847,
          88.07584908110915,
          89.31229300603935,
          90.52535878953178,
          91.61633872329372,
          92.53198259627248,
          93.386583544386,
          94.22040392233262,
          95.0438340151958,
          95.82180661081888,
          96.48418728488863,
          96.98032339762322,
          97.46347165400351,
          97.89077212806026,
          98.23365153581402,
          98.57523215793233,
          98.87655042535229,
          99.14280148061563,
          99.39346710825379,
          99.54932138450549,
          99.7012793038509,
          99.84544450938373,
          99.91428014806156,
          99.96882914474966,
          100
         ],
         "yaxis": "y2"
        }
       ],
       "layout": {
        "annotations": [
         {
          "align": "right",
          "showarrow": false,
          "text": "<span style=\"font-size:12px; color: gray; font-family: Courier New, monospace;\">Source: National Center for Education Statistics</span>",
          "x": 1,
          "xref": "paper",
          "y": -0.5,
          "yref": "paper"
         }
        ],
        "autosize": true,
        "font": {
         "color": "rgb(44, 44, 84)",
         "family": "Times New Roman, monospace",
         "size": 14
        },
        "height": 400,
        "legend": {
         "font": {
          "color": "rgb(44, 44, 84)",
          "family": "Courier New, monospace",
          "size": 12
         },
         "orientation": "h",
         "x": 0.79,
         "y": 1.2
        },
        "margin": {
         "b": 120,
         "l": 50,
         "r": 50,
         "t": 100
        },
        "plot_bgcolor": "rgb(255, 255, 255)",
        "template": {
         "data": {
          "bar": [
           {
            "error_x": {
             "color": "#2a3f5f"
            },
            "error_y": {
             "color": "#2a3f5f"
            },
            "marker": {
             "line": {
              "color": "#E5ECF6",
              "width": 0.5
             },
             "pattern": {
              "fillmode": "overlay",
              "size": 10,
              "solidity": 0.2
             }
            },
            "type": "bar"
           }
          ],
          "barpolar": [
           {
            "marker": {
             "line": {
              "color": "#E5ECF6",
              "width": 0.5
             },
             "pattern": {
              "fillmode": "overlay",
              "size": 10,
              "solidity": 0.2
             }
            },
            "type": "barpolar"
           }
          ],
          "carpet": [
           {
            "aaxis": {
             "endlinecolor": "#2a3f5f",
             "gridcolor": "white",
             "linecolor": "white",
             "minorgridcolor": "white",
             "startlinecolor": "#2a3f5f"
            },
            "baxis": {
             "endlinecolor": "#2a3f5f",
             "gridcolor": "white",
             "linecolor": "white",
             "minorgridcolor": "white",
             "startlinecolor": "#2a3f5f"
            },
            "type": "carpet"
           }
          ],
          "choropleth": [
           {
            "colorbar": {
             "outlinewidth": 0,
             "ticks": ""
            },
            "type": "choropleth"
           }
          ],
          "contour": [
           {
            "colorbar": {
             "outlinewidth": 0,
             "ticks": ""
            },
            "colorscale": [
             [
              0,
              "#0d0887"
             ],
             [
              0.1111111111111111,
              "#46039f"
             ],
             [
              0.2222222222222222,
              "#7201a8"
             ],
             [
              0.3333333333333333,
              "#9c179e"
             ],
             [
              0.4444444444444444,
              "#bd3786"
             ],
             [
              0.5555555555555556,
              "#d8576b"
             ],
             [
              0.6666666666666666,
              "#ed7953"
             ],
             [
              0.7777777777777778,
              "#fb9f3a"
             ],
             [
              0.8888888888888888,
              "#fdca26"
             ],
             [
              1,
              "#f0f921"
             ]
            ],
            "type": "contour"
           }
          ],
          "contourcarpet": [
           {
            "colorbar": {
             "outlinewidth": 0,
             "ticks": ""
            },
            "type": "contourcarpet"
           }
          ],
          "heatmap": [
           {
            "colorbar": {
             "outlinewidth": 0,
             "ticks": ""
            },
            "colorscale": [
             [
              0,
              "#0d0887"
             ],
             [
              0.1111111111111111,
              "#46039f"
             ],
             [
              0.2222222222222222,
              "#7201a8"
             ],
             [
              0.3333333333333333,
              "#9c179e"
             ],
             [
              0.4444444444444444,
              "#bd3786"
             ],
             [
              0.5555555555555556,
              "#d8576b"
             ],
             [
              0.6666666666666666,
              "#ed7953"
             ],
             [
              0.7777777777777778,
              "#fb9f3a"
             ],
             [
              0.8888888888888888,
              "#fdca26"
             ],
             [
              1,
              "#f0f921"
             ]
            ],
            "type": "heatmap"
           }
          ],
          "heatmapgl": [
           {
            "colorbar": {
             "outlinewidth": 0,
             "ticks": ""
            },
            "colorscale": [
             [
              0,
              "#0d0887"
             ],
             [
              0.1111111111111111,
              "#46039f"
             ],
             [
              0.2222222222222222,
              "#7201a8"
             ],
             [
              0.3333333333333333,
              "#9c179e"
             ],
             [
              0.4444444444444444,
              "#bd3786"
             ],
             [
              0.5555555555555556,
              "#d8576b"
             ],
             [
              0.6666666666666666,
              "#ed7953"
             ],
             [
              0.7777777777777778,
              "#fb9f3a"
             ],
             [
              0.8888888888888888,
              "#fdca26"
             ],
             [
              1,
              "#f0f921"
             ]
            ],
            "type": "heatmapgl"
           }
          ],
          "histogram": [
           {
            "marker": {
             "pattern": {
              "fillmode": "overlay",
              "size": 10,
              "solidity": 0.2
             }
            },
            "type": "histogram"
           }
          ],
          "histogram2d": [
           {
            "colorbar": {
             "outlinewidth": 0,
             "ticks": ""
            },
            "colorscale": [
             [
              0,
              "#0d0887"
             ],
             [
              0.1111111111111111,
              "#46039f"
             ],
             [
              0.2222222222222222,
              "#7201a8"
             ],
             [
              0.3333333333333333,
              "#9c179e"
             ],
             [
              0.4444444444444444,
              "#bd3786"
             ],
             [
              0.5555555555555556,
              "#d8576b"
             ],
             [
              0.6666666666666666,
              "#ed7953"
             ],
             [
              0.7777777777777778,
              "#fb9f3a"
             ],
             [
              0.8888888888888888,
              "#fdca26"
             ],
             [
              1,
              "#f0f921"
             ]
            ],
            "type": "histogram2d"
           }
          ],
          "histogram2dcontour": [
           {
            "colorbar": {
             "outlinewidth": 0,
             "ticks": ""
            },
            "colorscale": [
             [
              0,
              "#0d0887"
             ],
             [
              0.1111111111111111,
              "#46039f"
             ],
             [
              0.2222222222222222,
              "#7201a8"
             ],
             [
              0.3333333333333333,
              "#9c179e"
             ],
             [
              0.4444444444444444,
              "#bd3786"
             ],
             [
              0.5555555555555556,
              "#d8576b"
             ],
             [
              0.6666666666666666,
              "#ed7953"
             ],
             [
              0.7777777777777778,
              "#fb9f3a"
             ],
             [
              0.8888888888888888,
              "#fdca26"
             ],
             [
              1,
              "#f0f921"
             ]
            ],
            "type": "histogram2dcontour"
           }
          ],
          "mesh3d": [
           {
            "colorbar": {
             "outlinewidth": 0,
             "ticks": ""
            },
            "type": "mesh3d"
           }
          ],
          "parcoords": [
           {
            "line": {
             "colorbar": {
              "outlinewidth": 0,
              "ticks": ""
             }
            },
            "type": "parcoords"
           }
          ],
          "pie": [
           {
            "automargin": true,
            "type": "pie"
           }
          ],
          "scatter": [
           {
            "fillpattern": {
             "fillmode": "overlay",
             "size": 10,
             "solidity": 0.2
            },
            "type": "scatter"
           }
          ],
          "scatter3d": [
           {
            "line": {
             "colorbar": {
              "outlinewidth": 0,
              "ticks": ""
             }
            },
            "marker": {
             "colorbar": {
              "outlinewidth": 0,
              "ticks": ""
             }
            },
            "type": "scatter3d"
           }
          ],
          "scattercarpet": [
           {
            "marker": {
             "colorbar": {
              "outlinewidth": 0,
              "ticks": ""
             }
            },
            "type": "scattercarpet"
           }
          ],
          "scattergeo": [
           {
            "marker": {
             "colorbar": {
              "outlinewidth": 0,
              "ticks": ""
             }
            },
            "type": "scattergeo"
           }
          ],
          "scattergl": [
           {
            "marker": {
             "colorbar": {
              "outlinewidth": 0,
              "ticks": ""
             }
            },
            "type": "scattergl"
           }
          ],
          "scattermapbox": [
           {
            "marker": {
             "colorbar": {
              "outlinewidth": 0,
              "ticks": ""
             }
            },
            "type": "scattermapbox"
           }
          ],
          "scatterpolar": [
           {
            "marker": {
             "colorbar": {
              "outlinewidth": 0,
              "ticks": ""
             }
            },
            "type": "scatterpolar"
           }
          ],
          "scatterpolargl": [
           {
            "marker": {
             "colorbar": {
              "outlinewidth": 0,
              "ticks": ""
             }
            },
            "type": "scatterpolargl"
           }
          ],
          "scatterternary": [
           {
            "marker": {
             "colorbar": {
              "outlinewidth": 0,
              "ticks": ""
             }
            },
            "type": "scatterternary"
           }
          ],
          "surface": [
           {
            "colorbar": {
             "outlinewidth": 0,
             "ticks": ""
            },
            "colorscale": [
             [
              0,
              "#0d0887"
             ],
             [
              0.1111111111111111,
              "#46039f"
             ],
             [
              0.2222222222222222,
              "#7201a8"
             ],
             [
              0.3333333333333333,
              "#9c179e"
             ],
             [
              0.4444444444444444,
              "#bd3786"
             ],
             [
              0.5555555555555556,
              "#d8576b"
             ],
             [
              0.6666666666666666,
              "#ed7953"
             ],
             [
              0.7777777777777778,
              "#fb9f3a"
             ],
             [
              0.8888888888888888,
              "#fdca26"
             ],
             [
              1,
              "#f0f921"
             ]
            ],
            "type": "surface"
           }
          ],
          "table": [
           {
            "cells": {
             "fill": {
              "color": "#EBF0F8"
             },
             "line": {
              "color": "white"
             }
            },
            "header": {
             "fill": {
              "color": "#C8D4E3"
             },
             "line": {
              "color": "white"
             }
            },
            "type": "table"
           }
          ]
         },
         "layout": {
          "annotationdefaults": {
           "arrowcolor": "#2a3f5f",
           "arrowhead": 0,
           "arrowwidth": 1
          },
          "autotypenumbers": "strict",
          "coloraxis": {
           "colorbar": {
            "outlinewidth": 0,
            "ticks": ""
           }
          },
          "colorscale": {
           "diverging": [
            [
             0,
             "#8e0152"
            ],
            [
             0.1,
             "#c51b7d"
            ],
            [
             0.2,
             "#de77ae"
            ],
            [
             0.3,
             "#f1b6da"
            ],
            [
             0.4,
             "#fde0ef"
            ],
            [
             0.5,
             "#f7f7f7"
            ],
            [
             0.6,
             "#e6f5d0"
            ],
            [
             0.7,
             "#b8e186"
            ],
            [
             0.8,
             "#7fbc41"
            ],
            [
             0.9,
             "#4d9221"
            ],
            [
             1,
             "#276419"
            ]
           ],
           "sequential": [
            [
             0,
             "#0d0887"
            ],
            [
             0.1111111111111111,
             "#46039f"
            ],
            [
             0.2222222222222222,
             "#7201a8"
            ],
            [
             0.3333333333333333,
             "#9c179e"
            ],
            [
             0.4444444444444444,
             "#bd3786"
            ],
            [
             0.5555555555555556,
             "#d8576b"
            ],
            [
             0.6666666666666666,
             "#ed7953"
            ],
            [
             0.7777777777777778,
             "#fb9f3a"
            ],
            [
             0.8888888888888888,
             "#fdca26"
            ],
            [
             1,
             "#f0f921"
            ]
           ],
           "sequentialminus": [
            [
             0,
             "#0d0887"
            ],
            [
             0.1111111111111111,
             "#46039f"
            ],
            [
             0.2222222222222222,
             "#7201a8"
            ],
            [
             0.3333333333333333,
             "#9c179e"
            ],
            [
             0.4444444444444444,
             "#bd3786"
            ],
            [
             0.5555555555555556,
             "#d8576b"
            ],
            [
             0.6666666666666666,
             "#ed7953"
            ],
            [
             0.7777777777777778,
             "#fb9f3a"
            ],
            [
             0.8888888888888888,
             "#fdca26"
            ],
            [
             1,
             "#f0f921"
            ]
           ]
          },
          "colorway": [
           "#636efa",
           "#EF553B",
           "#00cc96",
           "#ab63fa",
           "#FFA15A",
           "#19d3f3",
           "#FF6692",
           "#B6E880",
           "#FF97FF",
           "#FECB52"
          ],
          "font": {
           "color": "#2a3f5f"
          },
          "geo": {
           "bgcolor": "white",
           "lakecolor": "white",
           "landcolor": "#E5ECF6",
           "showlakes": true,
           "showland": true,
           "subunitcolor": "white"
          },
          "hoverlabel": {
           "align": "left"
          },
          "hovermode": "closest",
          "mapbox": {
           "style": "light"
          },
          "paper_bgcolor": "white",
          "plot_bgcolor": "#E5ECF6",
          "polar": {
           "angularaxis": {
            "gridcolor": "white",
            "linecolor": "white",
            "ticks": ""
           },
           "bgcolor": "#E5ECF6",
           "radialaxis": {
            "gridcolor": "white",
            "linecolor": "white",
            "ticks": ""
           }
          },
          "scene": {
           "xaxis": {
            "backgroundcolor": "#E5ECF6",
            "gridcolor": "white",
            "gridwidth": 2,
            "linecolor": "white",
            "showbackground": true,
            "ticks": "",
            "zerolinecolor": "white"
           },
           "yaxis": {
            "backgroundcolor": "#E5ECF6",
            "gridcolor": "white",
            "gridwidth": 2,
            "linecolor": "white",
            "showbackground": true,
            "ticks": "",
            "zerolinecolor": "white"
           },
           "zaxis": {
            "backgroundcolor": "#E5ECF6",
            "gridcolor": "white",
            "gridwidth": 2,
            "linecolor": "white",
            "showbackground": true,
            "ticks": "",
            "zerolinecolor": "white"
           }
          },
          "shapedefaults": {
           "line": {
            "color": "#2a3f5f"
           }
          },
          "ternary": {
           "aaxis": {
            "gridcolor": "white",
            "linecolor": "white",
            "ticks": ""
           },
           "baxis": {
            "gridcolor": "white",
            "linecolor": "white",
            "ticks": ""
           },
           "bgcolor": "#E5ECF6",
           "caxis": {
            "gridcolor": "white",
            "linecolor": "white",
            "ticks": ""
           }
          },
          "title": {
           "x": 0.05
          },
          "xaxis": {
           "automargin": true,
           "gridcolor": "white",
           "linecolor": "white",
           "ticks": "",
           "title": {
            "standoff": 15
           },
           "zerolinecolor": "white",
           "zerolinewidth": 2
          },
          "yaxis": {
           "automargin": true,
           "gridcolor": "white",
           "linecolor": "white",
           "ticks": "",
           "title": {
            "standoff": 15
           },
           "zerolinecolor": "white",
           "zerolinewidth": 2
          }
         }
        },
        "title": {
         "font": {
          "size": 30
         },
         "text": "Reduced Lunch by County<br><span style='font-size:15px; color: rgb(100, 100, 100);'>Reduced Lunch Individuals in Schools in Washington State</span>"
        },
        "xaxis": {
         "linecolor": "rgb(0, 0, 0)",
         "linewidth": 2,
         "range": [
          -1,
          39
         ],
         "showline": true,
         "tickcolor": "rgb(0, 0, 0)",
         "ticks": "outside",
         "tickwidth": 2
        },
        "yaxis": {
         "linecolor": "rgb(0, 0, 0)",
         "linewidth": 2,
         "showline": true,
         "tickcolor": "rgb(0, 0, 0)",
         "ticks": "outside",
         "tickwidth": 2,
         "title": {
          "font": {
           "color": "rgb(71, 71, 135)",
           "family": "Courier New, monospace",
           "size": 16
          },
          "text": "Count Reduced Lunch"
         }
        },
        "yaxis2": {
         "linecolor": "rgb(0, 0, 0)",
         "linewidth": 2,
         "overlaying": "y",
         "range": [
          0,
          100
         ],
         "showline": true,
         "side": "right",
         "tickcolor": "rgb(0, 0, 0)",
         "ticks": "outside",
         "ticksuffix": " %",
         "tickwidth": 2,
         "title": {
          "font": {
           "color": "rgb(71, 71, 135)",
           "family": "Courier New, monospace",
           "size": 16
          },
          "text": "Percentage of Total Reduced Lunch"
         }
        }
       }
      }
     },
     "metadata": {},
     "output_type": "display_data"
    }
   ],
   "source": [
    "def graph_pareto(dataframe, col):\n",
    "    df = dataframe.copy()\n",
    "\n",
    "    data = [\n",
    "        Bar(\n",
    "          name = \"Count\",  \n",
    "          x = df.County,\n",
    "          y = df[f'{col}'], \n",
    "          marker= {\"color\": list(np.repeat('rgb(71, 71, 135)', 5)) + list(np.repeat('rgb(112, 111, 211)', len(df.index) - 5))}\n",
    "        ),\n",
    "        Scatter(\n",
    "          line= {\n",
    "            \"color\": \"rgb(192, 57, 43)\", \n",
    "            \"width\": 3\n",
    "          }, \n",
    "          name = \"Percentage\", \n",
    "          x = df.County,\n",
    "          y = df['Cumulative'], \n",
    "          yaxis= \"y2\",\n",
    "          mode='lines+markers'\n",
    "        ),\n",
    "    ]\n",
    "\n",
    "    layout = {\n",
    "      # Title Graph\n",
    "      \"title\": {\n",
    "        'text': \"Reduced Lunch by County<br><span style='font-size:15px; color: rgb(100, 100, 100);'>Reduced Lunch Individuals in Schools in Washington State</span>\",\n",
    "        'font': dict(size=30),\n",
    "      },\n",
    "      \n",
    "      # Source/Caption\n",
    "      \"annotations\": [{\n",
    "        'xref': 'paper',\n",
    "        'yref': 'paper',\n",
    "        'x': 1, \n",
    "        'y': -0.5,\n",
    "        'showarrow': False,\n",
    "        'text': '<span style=\"font-size:12px; color: gray; font-family: Courier New, monospace;\">Source: National Center for Education Statistics</span>',\n",
    "        'align': 'right'\n",
    "      }],\n",
    "      \n",
    "      # Font \n",
    "      \"font\": {\n",
    "        \"size\": 14, \n",
    "        \"color\": \"rgb(44, 44, 84)\", \n",
    "        \"family\": \"Times New Roman, monospace\"\n",
    "      },\n",
    "\n",
    "      # Graph Box \n",
    "      \"margin\": {\n",
    "        \"b\": 120, \n",
    "        \"l\": 50, \n",
    "        \"r\": 50, \n",
    "        \"t\": 100,\n",
    "      }, \n",
    "      \"height\": 400, \n",
    "\n",
    "      # Graph Box \n",
    "      \"plot_bgcolor\": \"rgb(255, 255, 255)\", \n",
    "\n",
    "\n",
    "      # Settings Legend\n",
    "      \"legend\": {\n",
    "        \"x\": 0.79, \n",
    "        \"y\": 1.2, \n",
    "        \"font\": {\n",
    "          \"size\": 12, \n",
    "          \"color\": \"rgb(44, 44, 84)\", \n",
    "          \"family\": \"Courier New, monospace\"\n",
    "        },\n",
    "        'orientation': 'h',\n",
    "      },\n",
    "      # Xaxis\n",
    "      \"xaxis\": {\n",
    "        \"showline\": True,\n",
    "        \"linecolor\": \"rgb(0, 0, 0)\",\n",
    "        \"linewidth\": 2,\n",
    "        \"ticks\": \"outside\",\n",
    "        \"tickwidth\": 2, \n",
    "        \"tickcolor\": 'rgb(0, 0, 0)',\n",
    "        \"range\": [(-1),len(reducedLunchCounty.index)]\n",
    "      },\n",
    "      # Yaxis 1 position left\n",
    "\n",
    "      \"yaxis\": {\n",
    "        \"title\": \"Count Reduced Lunch\",\n",
    "        \"titlefont\": {\n",
    "        \"size\": 16,\n",
    "        \"color\": \"rgb(71, 71, 135)\", \n",
    "        \"family\": \"Courier New, monospace\"\n",
    "        },\n",
    "        \"showline\": True,\n",
    "        \"linecolor\": \"rgb(0, 0, 0)\",\n",
    "        \"linewidth\": 2,\n",
    "        \"ticks\": \"outside\",\n",
    "        \"tickwidth\": 2, \n",
    "        \"tickcolor\": 'rgb(0, 0, 0)',\n",
    "        #\"automargin\": True\n",
    "        #\"shift\": -1\n",
    "      }, \n",
    "\n",
    "\n",
    "      # Yaxis 2 position right\n",
    "      \"yaxis2\": {\n",
    "        \"side\": \"right\",\n",
    "        \"range\": [0, 100], \n",
    "        \"title\": \"Percentage of Total Reduced Lunch\",\n",
    "        \"titlefont\": {\n",
    "          \"size\": 16, \n",
    "          \"color\": \"rgb(71, 71, 135)\", \n",
    "          \"family\": \"Courier New, monospace\"\n",
    "        },\n",
    "        \"showline\": True,\n",
    "        \"linecolor\": \"rgb(0, 0, 0)\",\n",
    "        \"linewidth\": 2,\n",
    "        \"overlaying\": \"y\",\n",
    "        \"ticksuffix\": \" %\",\n",
    "        \"ticks\": \"outside\",\n",
    "        \"tickwidth\": 2, \n",
    "        \"tickcolor\": 'rgb(0, 0, 0)',\n",
    "        #\"automargin\": True\n",
    "        #\"shift\": 1\n",
    "      }, \n",
    "    }\n",
    "\n",
    "    # Build Graph\n",
    "    fig = Figure(data=data, layout=layout)\n",
    "    fig.update_layout(autosize=True)\n",
    "    # Show Graph\n",
    "    fig.show()\n",
    "    \n",
    "    \n",
    "    plotPane = pn.pane.Plotly(fig)\n",
    "    source_annotation = pn.pane.Markdown(\n",
    "        '<span style=\"font-size: 12px; color: gray;\">Source: National Center for Education Statistics</span>',\n",
    "        width=600, height=40, align=\"center\"\n",
    "    )\n",
    "\n",
    "    # Combine Plotly graph and source annotation in a layout\n",
    "    layout = pn.Column(plotPane, source_annotation)\n",
    "\n",
    "    return layout\n",
    "figout = graph_pareto(reducedLunchCounty, 'Reduced.Lunch')"
   ]
  },
  {
   "cell_type": "code",
   "execution_count": 6,
   "metadata": {},
   "outputs": [
    {
     "data": {
      "application/vnd.jupyter.widget-view+json": {
       "model_id": "85de6c2a84324b11bfbc8a1a98e1309b",
       "version_major": 2,
       "version_minor": 0
      },
      "text/plain": [
       "BokehModel(combine_events=True, render_bundle={'docs_json': {'1871563f-a733-4e06-9f68-958d20492e08': {'version…"
      ]
     },
     "execution_count": 6,
     "metadata": {},
     "output_type": "execute_result"
    }
   ],
   "source": [
    "figout"
   ]
  },
  {
   "cell_type": "code",
   "execution_count": 7,
   "metadata": {},
   "outputs": [
    {
     "name": "stdout",
     "output_type": "stream",
     "text": [
      "Launching server at http://localhost:57768\n"
     ]
    }
   ],
   "source": [
    "server = figout.show()"
   ]
  },
  {
   "cell_type": "code",
   "execution_count": 39,
   "metadata": {},
   "outputs": [],
   "source": [
    "from bokeh.resources import INLINE\n",
    "from pathlib import Path\n",
    "\n",
    "figout.save(f\"{Path.home()}/Documents/School/690V/index.html\", resources=INLINE)"
   ]
  }
 ],
 "metadata": {
  "kernelspec": {
   "display_name": ".venv",
   "language": "python",
   "name": "python3"
  },
  "language_info": {
   "codemirror_mode": {
    "name": "ipython",
    "version": 3
   },
   "file_extension": ".py",
   "mimetype": "text/x-python",
   "name": "python",
   "nbconvert_exporter": "python",
   "pygments_lexer": "ipython3",
   "version": "3.13.1"
  }
 },
 "nbformat": 4,
 "nbformat_minor": 2
}
